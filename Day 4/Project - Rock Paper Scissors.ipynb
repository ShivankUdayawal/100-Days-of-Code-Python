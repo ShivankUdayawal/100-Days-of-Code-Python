{
 "cells": [
  {
   "cell_type": "code",
   "execution_count": 1,
   "metadata": {},
   "outputs": [
    {
     "name": "stdout",
     "output_type": "stream",
     "text": [
      "What you choose? 0 for Rock, 1 for Paper, 2 for Scissors: 2\n",
      "System choice 1\n",
      "You wins!\n"
     ]
    }
   ],
   "source": [
    "import random\n",
    "\n",
    "choice = int(input(\"What you choose? 0 for Rock, 1 for Paper, 2 for Scissors: \"))\n",
    "\n",
    "system_choice = random.randint(0, 2)\n",
    "print(f\"System choice {system_choice}\")\n",
    "\n",
    "if choice >= 3 or choice < 0:\n",
    "    print(\"You typed an invalid number, you lose!\")\n",
    "elif choice == 0 and system_choice == 2:\n",
    "    print(\"You wins!\")\n",
    "elif system_choice == 0 and choice == 2:\n",
    "    print(\"You lose!\")\n",
    "elif system_choice > choice:\n",
    "    print(\"You lose!\")\n",
    "elif choice > system_choice:\n",
    "    print(\"You wins!\")\n",
    "elif system_choice == choice:\n",
    "    print(\"Draw!\")"
   ]
  },
  {
   "cell_type": "code",
   "execution_count": null,
   "metadata": {},
   "outputs": [],
   "source": []
  }
 ],
 "metadata": {
  "kernelspec": {
   "display_name": "Python 3",
   "language": "python",
   "name": "python3"
  },
  "language_info": {
   "codemirror_mode": {
    "name": "ipython",
    "version": 3
   },
   "file_extension": ".py",
   "mimetype": "text/x-python",
   "name": "python",
   "nbconvert_exporter": "python",
   "pygments_lexer": "ipython3",
   "version": "3.7.9"
  }
 },
 "nbformat": 4,
 "nbformat_minor": 4
}
