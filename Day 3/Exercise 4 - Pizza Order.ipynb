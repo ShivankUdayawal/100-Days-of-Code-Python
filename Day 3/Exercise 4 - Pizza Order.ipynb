{
 "cells": [
  {
   "cell_type": "code",
   "execution_count": 1,
   "metadata": {},
   "outputs": [
    {
     "name": "stdout",
     "output_type": "stream",
     "text": [
      "Welcome to Python Pizza Deliveries!\n",
      "What size pizza do you want? S, M, or L: Y\n",
      "Do you want pepperoni? Y or N: Y\n",
      "Do you want extra cheese? Y or N: Y\n",
      "Your final bill is: $29\n"
     ]
    }
   ],
   "source": [
    "print(\"Welcome to Python Pizza Deliveries!\")\n",
    "\n",
    "size = input(\"What size pizza do you want? S, M, or L: \")\n",
    "\n",
    "add_pepperoni = input(\"Do you want pepperoni? Y or N: \")\n",
    "\n",
    "extra_cheese = input(\"Do you want extra cheese? Y or N: \")\n",
    "\n",
    "bill = 0\n",
    "\n",
    "if size == 'S':\n",
    "    bill = 15\n",
    "\n",
    "elif size == 'M':\n",
    "    bill = 20\n",
    "\n",
    "else:\n",
    "    bill = 25\n",
    "    \n",
    "if add_pepperoni == 'Y':\n",
    "    bill +=3\n",
    "        \n",
    "if extra_cheese == 'Y':\n",
    "    bill +=1\n",
    "        \n",
    "print(f\"Your final bill is: ${bill}\")"
   ]
  },
  {
   "cell_type": "code",
   "execution_count": null,
   "metadata": {},
   "outputs": [],
   "source": []
  }
 ],
 "metadata": {
  "kernelspec": {
   "display_name": "Python 3",
   "language": "python",
   "name": "python3"
  },
  "language_info": {
   "codemirror_mode": {
    "name": "ipython",
    "version": 3
   },
   "file_extension": ".py",
   "mimetype": "text/x-python",
   "name": "python",
   "nbconvert_exporter": "python",
   "pygments_lexer": "ipython3",
   "version": "3.7.9"
  }
 },
 "nbformat": 4,
 "nbformat_minor": 4
}
