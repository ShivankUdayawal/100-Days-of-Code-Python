{
 "cells": [
  {
   "cell_type": "markdown",
   "metadata": {},
   "source": [
    "* **Roller Coster Tickets**"
   ]
  },
  {
   "cell_type": "code",
   "execution_count": 1,
   "metadata": {},
   "outputs": [
    {
     "name": "stdout",
     "output_type": "stream",
     "text": [
      "Welcome to the RollerCoster\n",
      "What's your height in cm? 170\n",
      "You can ride the rollercoster\n",
      "What's your age? 20\n",
      "Adult tickets are $12\n",
      "Do you want to click the photo? Y or N Y\n",
      "Your final Bill is $15\n"
     ]
    }
   ],
   "source": [
    "print(\"Welcome to the RollerCoster\")\n",
    "\n",
    "height = int(input(\"What's your height in cm? \"))\n",
    "bill = 0\n",
    "\n",
    "if height >= 120:\n",
    "    print(\"You can ride the rollercoster\")\n",
    "    \n",
    "    age = int(input(\"What's your age? \"))\n",
    "    if age < 12:\n",
    "        bill = 5\n",
    "        print(\"Child tickets are $5.\")\n",
    "    elif age <= 18:\n",
    "        bill = 7\n",
    "        print(\"Youth tickets are $7\")\n",
    "    else:\n",
    "        bill = 12\n",
    "        print(\"Adult tickets are $12\")\n",
    "        \n",
    "    want_photo = input(\"Do you want to click the photo? Y or N \")\n",
    "    if want_photo == 'Y':\n",
    "        bill += 3\n",
    "        \n",
    "    print(f\"Your final Bill is ${bill}\")\n",
    "else:\n",
    "    print(\"Sorry You have to grow taller before you can ride\")"
   ]
  },
  {
   "cell_type": "code",
   "execution_count": null,
   "metadata": {},
   "outputs": [],
   "source": []
  }
 ],
 "metadata": {
  "kernelspec": {
   "display_name": "Python 3",
   "language": "python",
   "name": "python3"
  },
  "language_info": {
   "codemirror_mode": {
    "name": "ipython",
    "version": 3
   },
   "file_extension": ".py",
   "mimetype": "text/x-python",
   "name": "python",
   "nbconvert_exporter": "python",
   "pygments_lexer": "ipython3",
   "version": "3.7.9"
  }
 },
 "nbformat": 4,
 "nbformat_minor": 4
}
