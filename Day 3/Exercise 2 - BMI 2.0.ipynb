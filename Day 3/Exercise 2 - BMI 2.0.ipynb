{
 "cells": [
  {
   "cell_type": "code",
   "execution_count": 1,
   "metadata": {},
   "outputs": [
    {
     "name": "stdout",
     "output_type": "stream",
     "text": [
      "Enter your height in m: 1.75\n",
      "Entre your weight in kg: 85\n",
      " Your BMI is 28, you're Slightly Overweight\n"
     ]
    }
   ],
   "source": [
    "height = float(input(\"Enter your height in m: \"))\n",
    "weight = float(input(\"Entre your weight in kg: \"))\n",
    "\n",
    "BMI = round(weight / (height ** 2))\n",
    "\n",
    "if BMI <= 18.5:\n",
    "    print(f\" Your BMI is {BMI}, you're Underweight\")\n",
    "elif 18.5 < BMI <= 25:\n",
    "    print(f\" Your BMI is {BMI}, you've Normal weight\")\n",
    "elif 25 < BMI <= 30:\n",
    "    print(f\" Your BMI is {BMI}, you're Slightly Overweight\")\n",
    "elif 30 < BMI <= 35:\n",
    "    print(f\" Your BMI is {BMI}, you're Obese\")\n",
    "else:\n",
    "    print(f\" Your BMI is {BMI}, you're Clinically Obese\")"
   ]
  },
  {
   "cell_type": "code",
   "execution_count": null,
   "metadata": {},
   "outputs": [],
   "source": []
  }
 ],
 "metadata": {
  "kernelspec": {
   "display_name": "Python 3",
   "language": "python",
   "name": "python3"
  },
  "language_info": {
   "codemirror_mode": {
    "name": "ipython",
    "version": 3
   },
   "file_extension": ".py",
   "mimetype": "text/x-python",
   "name": "python",
   "nbconvert_exporter": "python",
   "pygments_lexer": "ipython3",
   "version": "3.7.9"
  }
 },
 "nbformat": 4,
 "nbformat_minor": 4
}
