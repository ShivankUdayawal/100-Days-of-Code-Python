{
 "cells": [
  {
   "cell_type": "code",
   "execution_count": 1,
   "metadata": {},
   "outputs": [
    {
     "name": "stdout",
     "output_type": "stream",
     "text": [
      "Welome to the Love Calculator!\n",
      "What is your name? \n",
      "Jethalal Champaklal Gada\n",
      "What is your name? \n",
      "Babita Iyer\n",
      "Your score is 56, you are alright togther\n"
     ]
    }
   ],
   "source": [
    "print(\"Welome to the Love Calculator!\")\n",
    "\n",
    "name1 = input(\"What is your name? \\n\")\n",
    "name2 = input(\"What is your name? \\n\")\n",
    "\n",
    "name = (name1+name2).lower()\n",
    "\n",
    "T = name.count(\"t\")\n",
    "R = name.count(\"r\")\n",
    "U = name.count(\"u\")\n",
    "E = name.count(\"e\")\n",
    "\n",
    "Total1 = T + R + U + E\n",
    "\n",
    "L = name.count(\"l\")\n",
    "O = name.count(\"o\")\n",
    "V = name.count(\"v\")\n",
    "E = name.count(\"e\")\n",
    "\n",
    "Total2 = L + O + V + E\n",
    "\n",
    "true_love = int(str(Total1) + str(Total2))\n",
    "\n",
    "if true_love < 10 or true_love > 90:\n",
    "    print(f\"Your Score is {true_love}, you go together like coke and mentos\")\n",
    "elif true_love > 40 or true_love < 50:\n",
    "    print(f\"Your score is {true_love}, you are alright togther\")\n",
    "else:\n",
    "    print(f\"Your score is {true_love}\")"
   ]
  },
  {
   "cell_type": "code",
   "execution_count": null,
   "metadata": {},
   "outputs": [],
   "source": []
  }
 ],
 "metadata": {
  "kernelspec": {
   "display_name": "Python 3",
   "language": "python",
   "name": "python3"
  },
  "language_info": {
   "codemirror_mode": {
    "name": "ipython",
    "version": 3
   },
   "file_extension": ".py",
   "mimetype": "text/x-python",
   "name": "python",
   "nbconvert_exporter": "python",
   "pygments_lexer": "ipython3",
   "version": "3.7.9"
  }
 },
 "nbformat": 4,
 "nbformat_minor": 4
}
