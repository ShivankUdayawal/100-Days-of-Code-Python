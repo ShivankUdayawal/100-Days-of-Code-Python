{
 "cells": [
  {
   "cell_type": "code",
   "execution_count": 1,
   "metadata": {},
   "outputs": [
    {
     "name": "stdout",
     "output_type": "stream",
     "text": [
      "Welcome to Treasure Island\n",
      "Your mission is to find the treasure\n",
      "You're at a cross road. Where do you want to go? Type left or right: Left\n",
      "Swim or Wait: Wait\n",
      "Which Door?  Red, Blue, Yellow: Yellow\n",
      "You Win!\n"
     ]
    }
   ],
   "source": [
    "print(\"Welcome to Treasure Island\")\n",
    "print(\"Your mission is to find the treasure\")\n",
    "\n",
    "Choice1 = input(\"You're at a cross road. Where do you want to go? Type left or right: \")\n",
    "if Choice1 == \"Right\":\n",
    "    print(\"You fall into a hole. Game Over\")\n",
    "else:\n",
    "    choice2 = input(\"Swim or Wait: \")\n",
    "    if choice2 == \"Swim\":\n",
    "        print(\"Attacked by trout.  Game Over\")\n",
    "    else:\n",
    "        choice3 = input(\"Which Door?  Red, Blue, Yellow: \")\n",
    "        if choice3 == \"Red\":\n",
    "            print(\"Burned by fire.  Game Over\")\n",
    "        elif choice3 == \"Blue\":\n",
    "            print(\"Eaten by beasts.  Game Over\")\n",
    "        elif choice3 == \"Yellow\":\n",
    "            print(\"You Win!\")\n",
    "        else:\n",
    "            print(\"Game Over\")"
   ]
  },
  {
   "cell_type": "code",
   "execution_count": null,
   "metadata": {},
   "outputs": [],
   "source": []
  }
 ],
 "metadata": {
  "kernelspec": {
   "display_name": "Python 3",
   "language": "python",
   "name": "python3"
  },
  "language_info": {
   "codemirror_mode": {
    "name": "ipython",
    "version": 3
   },
   "file_extension": ".py",
   "mimetype": "text/x-python",
   "name": "python",
   "nbconvert_exporter": "python",
   "pygments_lexer": "ipython3",
   "version": "3.7.9"
  }
 },
 "nbformat": 4,
 "nbformat_minor": 4
}
