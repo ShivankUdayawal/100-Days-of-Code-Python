{
 "cells": [
  {
   "cell_type": "code",
   "execution_count": 1,
   "metadata": {},
   "outputs": [
    {
     "name": "stdout",
     "output_type": "stream",
     "text": [
      "Password Generator!\n",
      "How many letters would you like in your password? 7\n",
      "How many numbers would you like in your password? 2\n",
      "How many symbols would you like in your password? 2\n",
      "['t', 'u', 'u', 'z', 'v', 'y', 'g', '2', '2', '@', '#']\n",
      "['g', '#', '2', 'u', 'y', 'z', 'v', '2', 'u', '@', 't']\n",
      "Your password is g#2uyzv2u@t\n"
     ]
    }
   ],
   "source": [
    "import random\n",
    "\n",
    "letters = ['a', 'b', 'c', 'd', 'e', 'f', 'g', 'j', 'k', 'l', 'm', 'n', 'o', 'p', 'q', 'r', 's', 't', 'u', 'v', 'w', 'x', 'y', \n",
    "           'z']\n",
    "\n",
    "numbers = ['0', '1', '2', '3', '4', '5', '6', '7', '8', '9']\n",
    "\n",
    "symbols = ['!', '@', '#', '$', '%', '^', '&', '*', '(', ')', '+', '~']\n",
    "\n",
    "print(\"Password Generator!\")\n",
    "\n",
    "no_letter = int(input(\"How many letters would you like in your password? \"))\n",
    "no_number = int(input(\"How many numbers would you like in your password? \"))\n",
    "no_symbol = int(input(\"How many symbols would you like in your password? \"))\n",
    "\n",
    "password = []\n",
    "\n",
    "for i in range(1, no_letter + 1):\n",
    "    password += random.choice(letters)\n",
    "    \n",
    "for i in range(1, no_number + 1):\n",
    "    password += random.choice(numbers)\n",
    "    \n",
    "for i in range(1, no_symbol + 1):\n",
    "    password += random.choice(symbols)\n",
    "    \n",
    "print(password)\n",
    "random.shuffle(password)\n",
    "print(password)\n",
    "\n",
    "new_password = \"\"\n",
    "for i in password:\n",
    "    new_password += i\n",
    "    \n",
    "print(f\"Your password is {new_password}\")"
   ]
  },
  {
   "cell_type": "code",
   "execution_count": null,
   "metadata": {},
   "outputs": [],
   "source": []
  }
 ],
 "metadata": {
  "kernelspec": {
   "display_name": "Python 3",
   "language": "python",
   "name": "python3"
  },
  "language_info": {
   "codemirror_mode": {
    "name": "ipython",
    "version": 3
   },
   "file_extension": ".py",
   "mimetype": "text/x-python",
   "name": "python",
   "nbconvert_exporter": "python",
   "pygments_lexer": "ipython3",
   "version": "3.7.9"
  }
 },
 "nbformat": 4,
 "nbformat_minor": 4
}
