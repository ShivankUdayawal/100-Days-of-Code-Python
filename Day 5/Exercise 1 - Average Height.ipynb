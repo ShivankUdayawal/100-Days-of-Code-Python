{
 "cells": [
  {
   "cell_type": "code",
   "execution_count": 1,
   "metadata": {},
   "outputs": [
    {
     "name": "stdout",
     "output_type": "stream",
     "text": [
      "Input a list of student heights: 180 124 165 173 189 169 146\n",
      "Average student height is 164.\n"
     ]
    }
   ],
   "source": [
    "student_height = input(\"Input a list of student heights: \").split()\n",
    "\n",
    "for i in range(0, len(student_height)):\n",
    "    student_height[i] = int(student_height[i])\n",
    "    \n",
    "sum = 0\n",
    "for j in student_height:\n",
    "    sum += j\n",
    "    \n",
    "average = round(sum/len(student_height))\n",
    "print(f\"Average student height is {average}.\")"
   ]
  },
  {
   "cell_type": "code",
   "execution_count": null,
   "metadata": {},
   "outputs": [],
   "source": []
  }
 ],
 "metadata": {
  "kernelspec": {
   "display_name": "Python 3",
   "language": "python",
   "name": "python3"
  },
  "language_info": {
   "codemirror_mode": {
    "name": "ipython",
    "version": 3
   },
   "file_extension": ".py",
   "mimetype": "text/x-python",
   "name": "python",
   "nbconvert_exporter": "python",
   "pygments_lexer": "ipython3",
   "version": "3.7.9"
  }
 },
 "nbformat": 4,
 "nbformat_minor": 4
}
