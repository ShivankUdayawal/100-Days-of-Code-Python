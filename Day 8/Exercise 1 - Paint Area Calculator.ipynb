{
 "cells": [
  {
   "cell_type": "code",
   "execution_count": 1,
   "metadata": {},
   "outputs": [
    {
     "name": "stdout",
     "output_type": "stream",
     "text": [
      "Height of wall: 3\n",
      "Width of wall: 9\n",
      "You'll need 6 cans of paint.\n"
     ]
    }
   ],
   "source": [
    "import math\n",
    "\n",
    "def paint_calc(height, width, cover):\n",
    "    area = height * width\n",
    "    no_of_can = math.ceil(area / cover)\n",
    "    print(f\"You'll need {no_of_can} cans of paint.\")\n",
    "    \n",
    "    \n",
    "test_h = int(input(\"Height of wall: \"))\n",
    "test_w = int(input(\"Width of wall: \"))\n",
    "coverage = 5\n",
    "\n",
    "paint_calc(height = test_h, width = test_w, cover = coverage)"
   ]
  },
  {
   "cell_type": "code",
   "execution_count": null,
   "metadata": {},
   "outputs": [],
   "source": []
  }
 ],
 "metadata": {
  "kernelspec": {
   "display_name": "Python 3",
   "language": "python",
   "name": "python3"
  },
  "language_info": {
   "codemirror_mode": {
    "name": "ipython",
    "version": 3
   },
   "file_extension": ".py",
   "mimetype": "text/x-python",
   "name": "python",
   "nbconvert_exporter": "python",
   "pygments_lexer": "ipython3",
   "version": "3.7.9"
  }
 },
 "nbformat": 4,
 "nbformat_minor": 4
}
