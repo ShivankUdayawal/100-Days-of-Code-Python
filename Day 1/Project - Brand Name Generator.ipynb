{
 "cells": [
  {
   "cell_type": "code",
   "execution_count": 1,
   "metadata": {},
   "outputs": [
    {
     "name": "stdout",
     "output_type": "stream",
     "text": [
      "Welcome to the Brand Name Generator.\n",
      "What's the name of the city you grew up in?\n",
      "Delhi\n",
      "What's your pet name?\n",
      "Tuffy\n",
      "Your Brand Name could be: Delhi Tuffy\n"
     ]
    }
   ],
   "source": [
    "print(\"Welcome to the Brand Name Generator.\")\n",
    "street = input(\"What's the name of the city you grew up in?\\n\")\n",
    "pet = input(\"What's your pet name?\\n\")\n",
    "\n",
    "print(\"Your Brand Name could be: \" + street + \" \" + pet)"
   ]
  },
  {
   "cell_type": "code",
   "execution_count": null,
   "metadata": {},
   "outputs": [],
   "source": []
  }
 ],
 "metadata": {
  "kernelspec": {
   "display_name": "Python 3",
   "language": "python",
   "name": "python3"
  },
  "language_info": {
   "codemirror_mode": {
    "name": "ipython",
    "version": 3
   },
   "file_extension": ".py",
   "mimetype": "text/x-python",
   "name": "python",
   "nbconvert_exporter": "python",
   "pygments_lexer": "ipython3",
   "version": "3.7.9"
  }
 },
 "nbformat": 4,
 "nbformat_minor": 4
}
