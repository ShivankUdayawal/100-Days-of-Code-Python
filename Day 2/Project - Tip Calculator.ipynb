{
 "cells": [
  {
   "cell_type": "code",
   "execution_count": 1,
   "metadata": {},
   "outputs": [
    {
     "name": "stdout",
     "output_type": "stream",
     "text": [
      "What's your total bill?/n$:150.00\n",
      "your tip %:12\n",
      "how many people will split the bill?:5\n",
      "Each person should pay:$33.60\n"
     ]
    }
   ],
   "source": [
    "bill = float(input(\"What's your total bill?/n$:\"))\n",
    "tip = int(input(\"your tip %:\"))\n",
    "split = int(input(\"how many people will split the bill?:\"))\n",
    "\n",
    "pay = (\"{:.2f}\".format((((bill * (tip / 100)) + bill) / split)))\n",
    "\n",
    "print(f\"Each person should pay:${pay}\")"
   ]
  },
  {
   "cell_type": "code",
   "execution_count": null,
   "metadata": {},
   "outputs": [],
   "source": []
  }
 ],
 "metadata": {
  "kernelspec": {
   "display_name": "Python 3",
   "language": "python",
   "name": "python3"
  },
  "language_info": {
   "codemirror_mode": {
    "name": "ipython",
    "version": 3
   },
   "file_extension": ".py",
   "mimetype": "text/x-python",
   "name": "python",
   "nbconvert_exporter": "python",
   "pygments_lexer": "ipython3",
   "version": "3.7.9"
  }
 },
 "nbformat": 4,
 "nbformat_minor": 4
}
