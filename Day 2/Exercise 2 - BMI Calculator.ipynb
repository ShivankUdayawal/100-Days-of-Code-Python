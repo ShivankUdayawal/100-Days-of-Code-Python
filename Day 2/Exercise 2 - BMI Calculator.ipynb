{
 "cells": [
  {
   "cell_type": "code",
   "execution_count": 1,
   "metadata": {},
   "outputs": [
    {
     "name": "stdout",
     "output_type": "stream",
     "text": [
      "enter your height in m:1.75\n",
      "enter your weight in kg:80\n",
      "26\n"
     ]
    }
   ],
   "source": [
    "Height = input(\"enter your height in m:\")\n",
    "Weight = input(\"enter your weight in kg:\")\n",
    "\n",
    "# BMI = Weight / (Height)^2\n",
    "\n",
    "BMI = int(Weight) / (float(Height) * float(Height))\n",
    "print(int(BMI))"
   ]
  },
  {
   "cell_type": "code",
   "execution_count": null,
   "metadata": {},
   "outputs": [],
   "source": []
  }
 ],
 "metadata": {
  "kernelspec": {
   "display_name": "Python 3",
   "language": "python",
   "name": "python3"
  },
  "language_info": {
   "codemirror_mode": {
    "name": "ipython",
    "version": 3
   },
   "file_extension": ".py",
   "mimetype": "text/x-python",
   "name": "python",
   "nbconvert_exporter": "python",
   "pygments_lexer": "ipython3",
   "version": "3.7.9"
  }
 },
 "nbformat": 4,
 "nbformat_minor": 4
}
